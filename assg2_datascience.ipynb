{
 "cells": [
  {
   "cell_type": "code",
   "execution_count": 1,
   "metadata": {},
   "outputs": [],
   "source": [
    "#Q1 Create an empty list. Accept 10 numbers from the user and append to it the list if it is an  even number. "
   ]
  },
  {
   "cell_type": "code",
   "execution_count": 2,
   "metadata": {},
   "outputs": [
    {
     "name": "stdout",
     "output_type": "stream",
     "text": [
      "45\n",
      "34\n",
      "12\n",
      "89\n",
      "76\n",
      "90\n",
      "33\n",
      "76\n",
      "24\n",
      "55\n",
      "[34, 12, 76, 90, 76, 24]\n"
     ]
    }
   ],
   "source": [
    "lst=[]\n",
    "for i in range(0,10):\n",
    "    ele=int(input())\n",
    "    if(ele%2==0):\n",
    "        lst.append(ele)\n",
    "print(lst)"
   ]
  },
  {
   "cell_type": "code",
   "execution_count": 3,
   "metadata": {},
   "outputs": [],
   "source": [
    "#Q2 Create a notebook of LIST COMPREHENSION."
   ]
  },
  {
   "cell_type": "code",
   "execution_count": 4,
   "metadata": {},
   "outputs": [
    {
     "data": {
      "text/plain": [
       "[0, 1, 4, 9, 16, 25, 36, 49, 64, 81, 100, 121]"
      ]
     },
     "execution_count": 4,
     "metadata": {},
     "output_type": "execute_result"
    }
   ],
   "source": [
    "[n**2 for n in range(12)]"
   ]
  },
  {
   "cell_type": "code",
   "execution_count": 5,
   "metadata": {},
   "outputs": [],
   "source": [
    "#Q3 In the assignment,given a number n,you have to write a program that generates a dictionary d which contains(i,i*i) \n",
    "# where i is from 1 to n(both included).\n",
    "# then you to just print this dictionary d."
   ]
  },
  {
   "cell_type": "code",
   "execution_count": 6,
   "metadata": {},
   "outputs": [
    {
     "name": "stdout",
     "output_type": "stream",
     "text": [
      "Input a number 10\n",
      "{1: 1, 2: 4, 3: 9, 4: 16, 5: 25, 6: 36, 7: 49, 8: 64, 9: 81, 10: 100}\n"
     ]
    }
   ],
   "source": [
    "n=int(input(\"Input a number \"))\n",
    "d=dict()\n",
    "for x in range(1,n+1):\n",
    "    d[x]=x*x\n",
    "    \n",
    "print(d)"
   ]
  },
  {
   "cell_type": "code",
   "execution_count": 7,
   "metadata": {},
   "outputs": [],
   "source": [
    "#Q4 Write a program to compute the distance between the current position after a sequence of movement and original point\n",
    "# If the distance is a float,then just print the nearest integer(use round()function for that \n",
    "# and then convert it into an integer)"
   ]
  },
  {
   "cell_type": "code",
   "execution_count": 9,
   "metadata": {},
   "outputs": [
    {
     "name": "stdout",
     "output_type": "stream",
     "text": [
      "type in up/down/left/right #step number: 5\n",
      "type in up/down/left/right #step number: 3\n",
      "type in up/down/left/right #step number: 3\n",
      "type in up/down/left/right #step number: 2\n",
      "type in up/down/left/right #step number: \n",
      "Distance: 0\n"
     ]
    }
   ],
   "source": [
    "import math\n",
    "x,y=0,0\n",
    "while True:\n",
    "    step=input(\"type in up/down/left/right #step number: \").split()\n",
    "    if not step:\n",
    "        break;\n",
    "    \n",
    "        \n",
    "    if step[0]==\"UP\":\n",
    "        y=y+int(step[1])\n",
    "    if step[0]==\"DOWN\":\n",
    "        y=y-int(step[1])\n",
    "    if step[0]==\"LEFT\":\n",
    "        x=x-int(step[1])\n",
    "    if step[0]==\"RIGHT\":\n",
    "        x=x+int(step[1])\n",
    "c=round(math.sqrt(x**2 + y**2))\n",
    "print(\"Distance:\",c)\n"
   ]
  },
  {
   "cell_type": "code",
   "execution_count": null,
   "metadata": {},
   "outputs": [],
   "source": []
  }
 ],
 "metadata": {
  "kernelspec": {
   "display_name": "Python 3",
   "language": "python",
   "name": "python3"
  },
  "language_info": {
   "codemirror_mode": {
    "name": "ipython",
    "version": 3
   },
   "file_extension": ".py",
   "mimetype": "text/x-python",
   "name": "python",
   "nbconvert_exporter": "python",
   "pygments_lexer": "ipython3",
   "version": "3.7.6"
  }
 },
 "nbformat": 4,
 "nbformat_minor": 4
}
