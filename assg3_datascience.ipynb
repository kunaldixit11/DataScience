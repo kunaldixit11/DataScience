{
 "cells": [
  {
   "cell_type": "code",
   "execution_count": 1,
   "metadata": {},
   "outputs": [],
   "source": [
    "#Q1 Create a numpy array starting from 2 till 50 with a stepsize of 3."
   ]
  },
  {
   "cell_type": "code",
   "execution_count": 2,
   "metadata": {},
   "outputs": [
    {
     "name": "stdout",
     "output_type": "stream",
     "text": [
      "[ 2  5  8 11 14 17 20 23 26 29 32 35 38 41 44 47]\n"
     ]
    }
   ],
   "source": [
    "import numpy as np\n",
    "\n",
    "arr=np.arange(2,50,3)\n",
    "print(arr)"
   ]
  },
  {
   "cell_type": "code",
   "execution_count": 3,
   "metadata": {},
   "outputs": [],
   "source": [
    "#Q2 Accept two lists of 5 elements each from the user.Convert them to numpy arrays.\n",
    "#Concatenate these arrays and print it. Also sort these arrays and print it."
   ]
  },
  {
   "cell_type": "code",
   "execution_count": 28,
   "metadata": {},
   "outputs": [
    {
     "name": "stdout",
     "output_type": "stream",
     "text": [
      "23\n",
      "90\n",
      "67\n",
      "53\n",
      "12\n",
      "19\n",
      "76\n",
      "45\n",
      "33\n",
      "65\n",
      "list 1 is :  [23, 67, 12, 76, 33]\n",
      "list 2 is :  [90, 53, 19, 45, 65]\n",
      "array 1 is [23 67 12 76 33]\n",
      "array 2 is [90 53 19 45 65]\n",
      "sorted array 1 is :  [12 23 33 67 76]\n",
      "sorted array 2 is :  [19 45 53 65 90]\n",
      "concatenated array :  [23 67 12 76 33 90 53 19 45 65]\n",
      "sorted concatenated array is :  [12 19 23 33 45 53 65 67 76 90]\n"
     ]
    }
   ],
   "source": [
    "import numpy as np\n",
    "\n",
    "lst1=[]\n",
    "lst2=[]\n",
    "for i in range(0,5):\n",
    "    item1=int(input())\n",
    "    item2=int(input())\n",
    "    lst1.append(item1)\n",
    "    lst2.append(item2)\n",
    "print(\"list 1 is : \",lst1)\n",
    "print(\"list 2 is : \",lst2)\n",
    "\n",
    "arr1=np.array(lst1)\n",
    "arr2=np.array(lst2)\n",
    "print(\"array 1 is\",arr1)\n",
    "print(\"array 2 is\",arr2)\n",
    "\n",
    "print(\"sorted array 1 is : \",np.sort(arr1))\n",
    "print(\"sorted array 2 is : \",np.sort(arr2))\n",
    "\n",
    "conarr=np.concatenate([arr1,arr2])\n",
    "print(\"concatenated array : \",conarr)\n",
    "print(\"sorted concatenated array is : \",np.sort(conarr))"
   ]
  },
  {
   "cell_type": "code",
   "execution_count": 6,
   "metadata": {},
   "outputs": [],
   "source": [
    "#Q3 Write a code snippet to find the dimensions of a ndarray and it's size."
   ]
  },
  {
   "cell_type": "code",
   "execution_count": 13,
   "metadata": {},
   "outputs": [
    {
     "name": "stdout",
     "output_type": "stream",
     "text": [
      "[[45 67 90]\n",
      " [12 34 87]]\n",
      "dimensions of array :  2\n",
      "size of he array :  6\n"
     ]
    }
   ],
   "source": [
    "import numpy as np\n",
    "\n",
    "arr=np.array([[45,67,90],[12,34,87]])\n",
    "print(arr)\n",
    "print(\"dimensions of array : \",arr.ndim)\n",
    "print(\"size of he array : \",arr.size)"
   ]
  },
  {
   "cell_type": "code",
   "execution_count": 14,
   "metadata": {},
   "outputs": [],
   "source": [
    "#Q4 How to convert a 1D array into a 2D array ?"
   ]
  },
  {
   "cell_type": "code",
   "execution_count": 27,
   "metadata": {},
   "outputs": [
    {
     "name": "stdout",
     "output_type": "stream",
     "text": [
      "[23 15 45 78 43 29 51 70]\n",
      "shape of the array :  (8,)\n",
      "[[23 15 45 78 43 29 51 70]]\n",
      "using new axis function :  (1, 8)\n",
      "[[23]\n",
      " [15]\n",
      " [45]\n",
      " [78]\n",
      " [43]\n",
      " [29]\n",
      " [51]\n",
      " [70]]\n",
      "using expand_dims function :  (8, 1)\n"
     ]
    }
   ],
   "source": [
    "import numpy as np\n",
    "a=np.array([23,15,45,78,43,29,51,70])\n",
    "print(a)\n",
    "print(\"shape of the array : \",a.shape)\n",
    "a2=a[np.newaxis,:]\n",
    "print(a2)\n",
    "print(\"using new axis function : \",a2.shape)\n",
    "a3=np.expand_dims(a,axis=1)\n",
    "print(a3)\n",
    "print(\"using expand_dims function : \",a3.shape)"
   ]
  },
  {
   "cell_type": "code",
   "execution_count": 29,
   "metadata": {},
   "outputs": [],
   "source": [
    "# Q5 Consider two square numpy arrays. Stack them vertically and horizontally."
   ]
  },
  {
   "cell_type": "code",
   "execution_count": 33,
   "metadata": {},
   "outputs": [
    {
     "name": "stdout",
     "output_type": "stream",
     "text": [
      "first array is :  [[66 14]\n",
      " [54 29]]\n",
      "second array is :  [[31 83]\n",
      " [10 78]]\n",
      "horizontally stack :  [[66 14 31 83]\n",
      " [54 29 10 78]]\n",
      "vertically stack :  [[66 14]\n",
      " [54 29]\n",
      " [31 83]\n",
      " [10 78]]\n"
     ]
    }
   ],
   "source": [
    "import numpy as np\n",
    "a=np.array([[66,14],[54,29]])\n",
    "b=np.array([[31,83],[10,78]])\n",
    "print(\"first array is : \",a)\n",
    "print(\"second array is : \",b)\n",
    "print(\"horizontally stack : \",np.hstack((a,b)))\n",
    "print(\"vertically stack : \",np.vstack((a,b)))"
   ]
  },
  {
   "cell_type": "code",
   "execution_count": 34,
   "metadata": {},
   "outputs": [],
   "source": [
    "# Q6 How to get unique items and counts of unique items ? "
   ]
  },
  {
   "cell_type": "code",
   "execution_count": 38,
   "metadata": {},
   "outputs": [
    {
     "name": "stdout",
     "output_type": "stream",
     "text": [
      "given array :  [11 11 12 13 14 15 16 17 12 13 11 14 18 16 16]\n",
      "unique items in array :  [11 12 13 14 15 16 17 18]\n",
      "unique items count :  [3 2 2 2 1 3 1 1]\n"
     ]
    }
   ],
   "source": [
    "import numpy as np\n",
    "arr=np.array([11,11,12,13,14,15,16,17,12,13,11,14,18,16,16])\n",
    "print(\"given array : \",arr)\n",
    "u,count=np.unique(arr,return_counts=True)\n",
    "print(\"unique items in array : \",u)\n",
    "print(\"unique items count : \",count)"
   ]
  },
  {
   "cell_type": "code",
   "execution_count": null,
   "metadata": {},
   "outputs": [],
   "source": []
  }
 ],
 "metadata": {
  "kernelspec": {
   "display_name": "Python 3",
   "language": "python",
   "name": "python3"
  },
  "language_info": {
   "codemirror_mode": {
    "name": "ipython",
    "version": 3
   },
   "file_extension": ".py",
   "mimetype": "text/x-python",
   "name": "python",
   "nbconvert_exporter": "python",
   "pygments_lexer": "ipython3",
   "version": "3.7.6"
  }
 },
 "nbformat": 4,
 "nbformat_minor": 4
}
